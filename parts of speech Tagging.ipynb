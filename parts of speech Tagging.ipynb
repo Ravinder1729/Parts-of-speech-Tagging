{
 "cells": [
  {
   "cell_type": "code",
   "execution_count": 1,
   "id": "6582f707-60b1-4b6c-aace-e0777124ec0c",
   "metadata": {},
   "outputs": [],
   "source": [
    "import pandas as pd\n",
    "import tensorflow\n",
    "import keras\n"
   ]
  },
  {
   "cell_type": "code",
   "execution_count": 2,
   "id": "677e3098-3160-492e-8fe9-83d7f273cade",
   "metadata": {},
   "outputs": [],
   "source": [
    "from keras.utils import pad_sequences\n",
    "from keras.models import Model,Sequential\n",
    "from keras.layers import Dense,SimpleRNN,Embedding,LSTM,GRU,Bidirectional,TimeDistributed,InputLayer\n",
    "from sklearn.model_selection import train_test_split\n",
    "import nltk\n",
    "from nltk.stem import WordNetLemmatizer,SnowballStemmer\n",
    "from nltk.corpus import brown,treebank"
   ]
  },
  {
   "cell_type": "code",
   "execution_count": 3,
   "id": "1b1f3f38-a39d-481e-bbcb-19f7f655f606",
   "metadata": {},
   "outputs": [
    {
     "name": "stderr",
     "output_type": "stream",
     "text": [
      "[nltk_data] Downloading package brown to\n",
      "[nltk_data]     C:\\Users\\ravin\\AppData\\Roaming\\nltk_data...\n",
      "[nltk_data]   Package brown is already up-to-date!\n"
     ]
    },
    {
     "data": {
      "text/plain": [
       "True"
      ]
     },
     "execution_count": 3,
     "metadata": {},
     "output_type": "execute_result"
    }
   ],
   "source": [
    " nltk.download('brown')"
   ]
  },
  {
   "cell_type": "code",
   "execution_count": 4,
   "id": "93f80ae0-46ce-4953-bd40-c29fbcc51fd1",
   "metadata": {},
   "outputs": [
    {
     "data": {
      "text/plain": [
       "<CategorizedTaggedCorpusReader in 'C:\\\\Users\\\\ravin\\\\AppData\\\\Roaming\\\\nltk_data\\\\corpora\\\\brown'>"
      ]
     },
     "execution_count": 4,
     "metadata": {},
     "output_type": "execute_result"
    }
   ],
   "source": [
    "brown"
   ]
  },
  {
   "cell_type": "code",
   "execution_count": 5,
   "id": "05878dfb-06ef-464a-a06e-70df509c6af7",
   "metadata": {},
   "outputs": [
    {
     "data": {
      "text/plain": [
       "57340"
      ]
     },
     "execution_count": 5,
     "metadata": {},
     "output_type": "execute_result"
    }
   ],
   "source": [
    "len(brown.sents())"
   ]
  },
  {
   "cell_type": "code",
   "execution_count": 6,
   "id": "ba8cc7d8-b24e-4a59-bd0f-22bb4fc3aef9",
   "metadata": {},
   "outputs": [
    {
     "data": {
      "text/plain": [
       "\"The Fulton County Grand Jury said Friday an investigation of Atlanta's recent primary election produced `` no evidence '' that any irregularities took place .\""
      ]
     },
     "execution_count": 6,
     "metadata": {},
     "output_type": "execute_result"
    }
   ],
   "source": [
    "' '.join(brown.sents()[0])\n"
   ]
  },
  {
   "cell_type": "code",
   "execution_count": 7,
   "id": "48e8b401-569d-48cc-92dc-c9337cc69dba",
   "metadata": {},
   "outputs": [
    {
     "name": "stderr",
     "output_type": "stream",
     "text": [
      "[nltk_data] Downloading package treebank to\n",
      "[nltk_data]     C:\\Users\\ravin\\AppData\\Roaming\\nltk_data...\n",
      "[nltk_data]   Package treebank is already up-to-date!\n"
     ]
    },
    {
     "data": {
      "text/plain": [
       "True"
      ]
     },
     "execution_count": 7,
     "metadata": {},
     "output_type": "execute_result"
    }
   ],
   "source": [
    " nltk.download('treebank')"
   ]
  },
  {
   "cell_type": "code",
   "execution_count": 8,
   "id": "c9d2a9d2-592d-42dd-816a-ba25da58521a",
   "metadata": {},
   "outputs": [
    {
     "data": {
      "text/plain": [
       "3914"
      ]
     },
     "execution_count": 8,
     "metadata": {},
     "output_type": "execute_result"
    }
   ],
   "source": [
    "len(treebank.sents())"
   ]
  },
  {
   "cell_type": "code",
   "execution_count": 9,
   "id": "318887e7-d3b8-474f-8d46-a1a099560263",
   "metadata": {},
   "outputs": [
    {
     "name": "stderr",
     "output_type": "stream",
     "text": [
      "[nltk_data] Downloading package universal_tagset to\n",
      "[nltk_data]     C:\\Users\\ravin\\AppData\\Roaming\\nltk_data...\n",
      "[nltk_data]   Package universal_tagset is already up-to-date!\n"
     ]
    },
    {
     "data": {
      "text/plain": [
       "True"
      ]
     },
     "execution_count": 9,
     "metadata": {},
     "output_type": "execute_result"
    }
   ],
   "source": [
    " nltk.download('universal_tagset')"
   ]
  },
  {
   "cell_type": "code",
   "execution_count": 10,
   "id": "da03216a-ade7-4d14-b7fc-825398d6963d",
   "metadata": {},
   "outputs": [],
   "source": [
    "d1 = brown.tagged_sents(tagset='universal')"
   ]
  },
  {
   "cell_type": "code",
   "execution_count": 11,
   "id": "36c2d442-6409-4507-9400-e37a023202d8",
   "metadata": {},
   "outputs": [],
   "source": [
    "d2 = treebank.tagged_sents(tagset='universal')"
   ]
  },
  {
   "cell_type": "code",
   "execution_count": 12,
   "id": "2af40298-c094-4b11-a24f-9143ee50f815",
   "metadata": {},
   "outputs": [],
   "source": [
    "dataset = d1+d2"
   ]
  },
  {
   "cell_type": "code",
   "execution_count": 13,
   "id": "a69c405f-4fd8-431f-bcc4-80735115147b",
   "metadata": {},
   "outputs": [],
   "source": [
    "X = []\n",
    "y = []\n",
    "for l in dataset:\n",
    "    x1=[]\n",
    "    y1 =[]\n",
    "    for t in l:\n",
    "        x1.append(t[0])\n",
    "        y1.append(t[1])\n",
    "    X.append(x1)\n",
    "    y.append(y1)\n",
    "    "
   ]
  },
  {
   "cell_type": "code",
   "execution_count": 14,
   "id": "9d277480-de57-4deb-913a-93c9f254638e",
   "metadata": {},
   "outputs": [
    {
     "data": {
      "text/plain": [
       "10"
      ]
     },
     "execution_count": 14,
     "metadata": {},
     "output_type": "execute_result"
    }
   ],
   "source": [
    "c=10\n",
    "for i in range(len(X)):\n",
    "    if len(X[i]) == len(y[i]):\n",
    "        pass\n",
    "    else:\n",
    "        c+=1\n",
    "        \n",
    "c   \n",
    "    "
   ]
  },
  {
   "cell_type": "code",
   "execution_count": 15,
   "id": "fedbc50c-7924-4006-a458-78ff01c30a06",
   "metadata": {},
   "outputs": [],
   "source": [
    "#finding vocabulary\n",
    "voc = []\n",
    "for doc in X:\n",
    "    for word in doc:\n",
    "        if word.lower() not in voc:\n",
    "            voc.append(word.lower())"
   ]
  },
  {
   "cell_type": "code",
   "execution_count": 16,
   "id": "b73c8a45-77d7-4bac-8c9d-8ca9ccd3797e",
   "metadata": {},
   "outputs": [
    {
     "data": {
      "text/plain": [
       "53232"
      ]
     },
     "execution_count": 16,
     "metadata": {},
     "output_type": "execute_result"
    }
   ],
   "source": [
    "len(voc)"
   ]
  },
  {
   "cell_type": "code",
   "execution_count": 17,
   "id": "61b7aa4e-5916-424a-a6f1-42f78d9e37e1",
   "metadata": {},
   "outputs": [],
   "source": [
    "voc = []\n",
    "for doc in y:\n",
    "    for word in doc:\n",
    "        if word.lower() not in voc:\n",
    "            voc.append(word.lower())"
   ]
  },
  {
   "cell_type": "code",
   "execution_count": 18,
   "id": "81286555-e51f-428a-b4b8-4f8824a1c0f7",
   "metadata": {},
   "outputs": [
    {
     "data": {
      "text/plain": [
       "12"
      ]
     },
     "execution_count": 18,
     "metadata": {},
     "output_type": "execute_result"
    }
   ],
   "source": [
    "len(voc)"
   ]
  },
  {
   "cell_type": "code",
   "execution_count": 19,
   "id": "62951db8-ead4-4a81-856d-d0081970b9ee",
   "metadata": {},
   "outputs": [],
   "source": [
    "\n",
    "from tensorflow.keras.preprocessing.text import Tokenizer"
   ]
  },
  {
   "cell_type": "code",
   "execution_count": 20,
   "id": "089ab475-719d-4627-b9b1-02d18d60ea4f",
   "metadata": {},
   "outputs": [],
   "source": [
    "tk_x = Tokenizer(oov_token='ovv')\n",
    "tk_x.fit_on_texts(X)\n",
    "tk_y = Tokenizer()\n",
    "tk_y.fit_on_texts(y)\n",
    "   "
   ]
  },
  {
   "cell_type": "code",
   "execution_count": 22,
   "id": "8ac0e869-6001-47eb-808b-58a6075ba985",
   "metadata": {},
   "outputs": [
    {
     "data": {
      "text/plain": [
       "53233"
      ]
     },
     "execution_count": 22,
     "metadata": {},
     "output_type": "execute_result"
    }
   ],
   "source": [
    "len(tk_x.word_index)"
   ]
  },
  {
   "cell_type": "code",
   "execution_count": 23,
   "id": "5e3e5b51-3b1d-4ee6-8d62-562d0d04359d",
   "metadata": {},
   "outputs": [
    {
     "data": {
      "text/plain": [
       "12"
      ]
     },
     "execution_count": 23,
     "metadata": {},
     "output_type": "execute_result"
    }
   ],
   "source": [
    "len(tk_y.word_index)"
   ]
  },
  {
   "cell_type": "code",
   "execution_count": 24,
   "id": "f5b1eea5-0e1b-4cf8-a7ba-ea52f3afc682",
   "metadata": {},
   "outputs": [
    {
     "data": {
      "text/plain": [
       "{'noun': 1,\n",
       " 'verb': 2,\n",
       " '.': 3,\n",
       " 'adp': 4,\n",
       " 'det': 5,\n",
       " 'adj': 6,\n",
       " 'adv': 7,\n",
       " 'pron': 8,\n",
       " 'conj': 9,\n",
       " 'prt': 10,\n",
       " 'num': 11,\n",
       " 'x': 12}"
      ]
     },
     "execution_count": 24,
     "metadata": {},
     "output_type": "execute_result"
    }
   ],
   "source": [
    "tk_y.word_index"
   ]
  },
  {
   "cell_type": "code",
   "execution_count": 25,
   "id": "062efc0e-a80a-440a-a763-459b0fd73208",
   "metadata": {},
   "outputs": [],
   "source": [
    "X_d = tk_x.texts_to_sequences(X)"
   ]
  },
  {
   "cell_type": "code",
   "execution_count": 26,
   "id": "9b6effeb-4afd-4f6a-96b0-6e0055faeac6",
   "metadata": {},
   "outputs": [],
   "source": [
    " y_d = tk_y.texts_to_sequences(y)"
   ]
  },
  {
   "cell_type": "code",
   "execution_count": 27,
   "id": "1307b9ca-b562-46ee-9a19-3621b14c3149",
   "metadata": {},
   "outputs": [
    {
     "data": {
      "text/plain": [
       "61254"
      ]
     },
     "execution_count": 27,
     "metadata": {},
     "output_type": "execute_result"
    }
   ],
   "source": [
    "len(X_d)"
   ]
  },
  {
   "cell_type": "code",
   "execution_count": 28,
   "id": "510cf7a0-1a35-49b5-b28a-3d5e443aaca0",
   "metadata": {},
   "outputs": [
    {
     "data": {
      "text/plain": [
       "61254"
      ]
     },
     "execution_count": 28,
     "metadata": {},
     "output_type": "execute_result"
    }
   ],
   "source": [
    "len(y_d)"
   ]
  },
  {
   "cell_type": "code",
   "execution_count": 29,
   "id": "309750e3-cf63-435c-a02d-7e378e150d76",
   "metadata": {},
   "outputs": [],
   "source": [
    "final_x_d = pad_sequences(X_d,padding='post')\n",
    "final_y_d = pad_sequences(y_d,padding='post')"
   ]
  },
  {
   "cell_type": "code",
   "execution_count": 30,
   "id": "2c1d02ed-35d6-4266-991a-6237193558b1",
   "metadata": {},
   "outputs": [
    {
     "data": {
      "text/plain": [
       "(61254, 271)"
      ]
     },
     "execution_count": 30,
     "metadata": {},
     "output_type": "execute_result"
    }
   ],
   "source": [
    "final_x_d.shape"
   ]
  },
  {
   "cell_type": "code",
   "execution_count": 31,
   "id": "e5ed2fc5-52d6-4ac7-8e10-93365a802237",
   "metadata": {},
   "outputs": [
    {
     "data": {
      "text/plain": [
       "(61254, 271)"
      ]
     },
     "execution_count": 31,
     "metadata": {},
     "output_type": "execute_result"
    }
   ],
   "source": [
    "final_y_d.shape"
   ]
  },
  {
   "cell_type": "code",
   "execution_count": 32,
   "id": "fded9b5b-22fd-4396-b040-f39db6f37dc5",
   "metadata": {},
   "outputs": [],
   "source": [
    "from keras.utils import to_categorical"
   ]
  },
  {
   "cell_type": "code",
   "execution_count": 33,
   "id": "08e35832-a4fd-4fe0-a990-6cebfce5af30",
   "metadata": {},
   "outputs": [],
   "source": [
    "final_y = to_categorical(final_y_d)"
   ]
  },
  {
   "cell_type": "code",
   "execution_count": 34,
   "id": "c990f849-1255-4a4f-82d0-a06ea07fc446",
   "metadata": {},
   "outputs": [
    {
     "data": {
      "text/plain": [
       "(61254, 271, 13)"
      ]
     },
     "execution_count": 34,
     "metadata": {},
     "output_type": "execute_result"
    }
   ],
   "source": [
    "final_y.shape"
   ]
  },
  {
   "cell_type": "code",
   "execution_count": 35,
   "id": "31e3dd9f-f466-44e8-b7ab-c515c52ce60a",
   "metadata": {},
   "outputs": [
    {
     "data": {
      "text/plain": [
       "(61254, 271)"
      ]
     },
     "execution_count": 35,
     "metadata": {},
     "output_type": "execute_result"
    }
   ],
   "source": [
    "final_x_d.shape"
   ]
  },
  {
   "cell_type": "code",
   "execution_count": 36,
   "id": "825b7b63-2872-4d23-96d0-ab5e14791e0b",
   "metadata": {},
   "outputs": [],
   "source": [
    "model = Sequential()\n",
    "model.add(InputLayer(shape=(271,)))\n",
    "model.add(Embedding(input_dim=53232+1,output_dim=5))\n",
    "model.add(SimpleRNN(units=50,return_sequences=True))\n",
    "model.add(TimeDistributed(Dense(units=13,activation='softmax')))"
   ]
  },
  {
   "cell_type": "code",
   "execution_count": 37,
   "id": "a5a03a14-baca-4735-9b5d-ab7ac10e281b",
   "metadata": {},
   "outputs": [
    {
     "data": {
      "text/html": [
       "<pre style=\"white-space:pre;overflow-x:auto;line-height:normal;font-family:Menlo,'DejaVu Sans Mono',consolas,'Courier New',monospace\"><span style=\"font-weight: bold\">Model: \"sequential\"</span>\n",
       "</pre>\n"
      ],
      "text/plain": [
       "\u001b[1mModel: \"sequential\"\u001b[0m\n"
      ]
     },
     "metadata": {},
     "output_type": "display_data"
    },
    {
     "data": {
      "text/html": [
       "<pre style=\"white-space:pre;overflow-x:auto;line-height:normal;font-family:Menlo,'DejaVu Sans Mono',consolas,'Courier New',monospace\">┏━━━━━━━━━━━━━━━━━━━━━━━━━━━━━━━━━━━━━━┳━━━━━━━━━━━━━━━━━━━━━━━━━━━━━┳━━━━━━━━━━━━━━━━━┓\n",
       "┃<span style=\"font-weight: bold\"> Layer (type)                         </span>┃<span style=\"font-weight: bold\"> Output Shape                </span>┃<span style=\"font-weight: bold\">         Param # </span>┃\n",
       "┡━━━━━━━━━━━━━━━━━━━━━━━━━━━━━━━━━━━━━━╇━━━━━━━━━━━━━━━━━━━━━━━━━━━━━╇━━━━━━━━━━━━━━━━━┩\n",
       "│ embedding (<span style=\"color: #0087ff; text-decoration-color: #0087ff\">Embedding</span>)                │ (<span style=\"color: #00d7ff; text-decoration-color: #00d7ff\">None</span>, <span style=\"color: #00af00; text-decoration-color: #00af00\">271</span>, <span style=\"color: #00af00; text-decoration-color: #00af00\">5</span>)              │         <span style=\"color: #00af00; text-decoration-color: #00af00\">266,165</span> │\n",
       "├──────────────────────────────────────┼─────────────────────────────┼─────────────────┤\n",
       "│ simple_rnn (<span style=\"color: #0087ff; text-decoration-color: #0087ff\">SimpleRNN</span>)               │ (<span style=\"color: #00d7ff; text-decoration-color: #00d7ff\">None</span>, <span style=\"color: #00af00; text-decoration-color: #00af00\">271</span>, <span style=\"color: #00af00; text-decoration-color: #00af00\">50</span>)             │           <span style=\"color: #00af00; text-decoration-color: #00af00\">2,800</span> │\n",
       "├──────────────────────────────────────┼─────────────────────────────┼─────────────────┤\n",
       "│ time_distributed (<span style=\"color: #0087ff; text-decoration-color: #0087ff\">TimeDistributed</span>)   │ (<span style=\"color: #00d7ff; text-decoration-color: #00d7ff\">None</span>, <span style=\"color: #00af00; text-decoration-color: #00af00\">271</span>, <span style=\"color: #00af00; text-decoration-color: #00af00\">13</span>)             │             <span style=\"color: #00af00; text-decoration-color: #00af00\">663</span> │\n",
       "└──────────────────────────────────────┴─────────────────────────────┴─────────────────┘\n",
       "</pre>\n"
      ],
      "text/plain": [
       "┏━━━━━━━━━━━━━━━━━━━━━━━━━━━━━━━━━━━━━━┳━━━━━━━━━━━━━━━━━━━━━━━━━━━━━┳━━━━━━━━━━━━━━━━━┓\n",
       "┃\u001b[1m \u001b[0m\u001b[1mLayer (type)                        \u001b[0m\u001b[1m \u001b[0m┃\u001b[1m \u001b[0m\u001b[1mOutput Shape               \u001b[0m\u001b[1m \u001b[0m┃\u001b[1m \u001b[0m\u001b[1m        Param #\u001b[0m\u001b[1m \u001b[0m┃\n",
       "┡━━━━━━━━━━━━━━━━━━━━━━━━━━━━━━━━━━━━━━╇━━━━━━━━━━━━━━━━━━━━━━━━━━━━━╇━━━━━━━━━━━━━━━━━┩\n",
       "│ embedding (\u001b[38;5;33mEmbedding\u001b[0m)                │ (\u001b[38;5;45mNone\u001b[0m, \u001b[38;5;34m271\u001b[0m, \u001b[38;5;34m5\u001b[0m)              │         \u001b[38;5;34m266,165\u001b[0m │\n",
       "├──────────────────────────────────────┼─────────────────────────────┼─────────────────┤\n",
       "│ simple_rnn (\u001b[38;5;33mSimpleRNN\u001b[0m)               │ (\u001b[38;5;45mNone\u001b[0m, \u001b[38;5;34m271\u001b[0m, \u001b[38;5;34m50\u001b[0m)             │           \u001b[38;5;34m2,800\u001b[0m │\n",
       "├──────────────────────────────────────┼─────────────────────────────┼─────────────────┤\n",
       "│ time_distributed (\u001b[38;5;33mTimeDistributed\u001b[0m)   │ (\u001b[38;5;45mNone\u001b[0m, \u001b[38;5;34m271\u001b[0m, \u001b[38;5;34m13\u001b[0m)             │             \u001b[38;5;34m663\u001b[0m │\n",
       "└──────────────────────────────────────┴─────────────────────────────┴─────────────────┘\n"
      ]
     },
     "metadata": {},
     "output_type": "display_data"
    },
    {
     "data": {
      "text/html": [
       "<pre style=\"white-space:pre;overflow-x:auto;line-height:normal;font-family:Menlo,'DejaVu Sans Mono',consolas,'Courier New',monospace\"><span style=\"font-weight: bold\"> Total params: </span><span style=\"color: #00af00; text-decoration-color: #00af00\">269,628</span> (1.03 MB)\n",
       "</pre>\n"
      ],
      "text/plain": [
       "\u001b[1m Total params: \u001b[0m\u001b[38;5;34m269,628\u001b[0m (1.03 MB)\n"
      ]
     },
     "metadata": {},
     "output_type": "display_data"
    },
    {
     "data": {
      "text/html": [
       "<pre style=\"white-space:pre;overflow-x:auto;line-height:normal;font-family:Menlo,'DejaVu Sans Mono',consolas,'Courier New',monospace\"><span style=\"font-weight: bold\"> Trainable params: </span><span style=\"color: #00af00; text-decoration-color: #00af00\">269,628</span> (1.03 MB)\n",
       "</pre>\n"
      ],
      "text/plain": [
       "\u001b[1m Trainable params: \u001b[0m\u001b[38;5;34m269,628\u001b[0m (1.03 MB)\n"
      ]
     },
     "metadata": {},
     "output_type": "display_data"
    },
    {
     "data": {
      "text/html": [
       "<pre style=\"white-space:pre;overflow-x:auto;line-height:normal;font-family:Menlo,'DejaVu Sans Mono',consolas,'Courier New',monospace\"><span style=\"font-weight: bold\"> Non-trainable params: </span><span style=\"color: #00af00; text-decoration-color: #00af00\">0</span> (0.00 B)\n",
       "</pre>\n"
      ],
      "text/plain": [
       "\u001b[1m Non-trainable params: \u001b[0m\u001b[38;5;34m0\u001b[0m (0.00 B)\n"
      ]
     },
     "metadata": {},
     "output_type": "display_data"
    }
   ],
   "source": [
    "model.summary()"
   ]
  },
  {
   "cell_type": "code",
   "execution_count": 38,
   "id": "a8aeb08e-ff8b-4057-8e93-0fa934e2c5ca",
   "metadata": {},
   "outputs": [],
   "source": [
    "model.compile(optimizer='rmsprop',loss='categorical_crossentropy',metrics=['accuracy'])"
   ]
  },
  {
   "cell_type": "code",
   "execution_count": 39,
   "id": "f89b264a-5bbf-4c38-84d2-1ca6fde72073",
   "metadata": {},
   "outputs": [
    {
     "name": "stdout",
     "output_type": "stream",
     "text": [
      "<class 'numpy.ndarray'>\n",
      "<class 'numpy.ndarray'>\n"
     ]
    }
   ],
   "source": [
    "final_x_d.shape,final_y.shape\n",
    "print(type(final_x_d))\n",
    "print(type(final_y))"
   ]
  },
  {
   "cell_type": "code",
   "execution_count": 51,
   "id": "26bcfa69-ea58-4f2b-bb92-8218e8c99dea",
   "metadata": {},
   "outputs": [
    {
     "data": {
      "text/plain": [
       "(61254, 61254)"
      ]
     },
     "execution_count": 51,
     "metadata": {},
     "output_type": "execute_result"
    }
   ],
   "source": [
    "len(final_x_d),len(final_y)"
   ]
  },
  {
   "cell_type": "code",
   "execution_count": 52,
   "id": "15834aa4-5264-483d-baaf-b68d251344ec",
   "metadata": {},
   "outputs": [
    {
     "name": "stdout",
     "output_type": "stream",
     "text": [
      "Epoch 1/5\n",
      "\u001b[1m250/250\u001b[0m \u001b[32m━━━━━━━━━━━━━━━━━━━━\u001b[0m\u001b[37m\u001b[0m \u001b[1m47s\u001b[0m 189ms/step - accuracy: 0.9955 - loss: 0.0135 - val_accuracy: 0.9940 - val_loss: 0.0177\n",
      "Epoch 2/5\n",
      "\u001b[1m250/250\u001b[0m \u001b[32m━━━━━━━━━━━━━━━━━━━━\u001b[0m\u001b[37m\u001b[0m \u001b[1m46s\u001b[0m 185ms/step - accuracy: 0.9959 - loss: 0.0123 - val_accuracy: 0.9941 - val_loss: 0.0175\n",
      "Epoch 3/5\n",
      "\u001b[1m250/250\u001b[0m \u001b[32m━━━━━━━━━━━━━━━━━━━━\u001b[0m\u001b[37m\u001b[0m \u001b[1m46s\u001b[0m 186ms/step - accuracy: 0.9962 - loss: 0.0114 - val_accuracy: 0.9942 - val_loss: 0.0171\n",
      "Epoch 4/5\n",
      "\u001b[1m250/250\u001b[0m \u001b[32m━━━━━━━━━━━━━━━━━━━━\u001b[0m\u001b[37m\u001b[0m \u001b[1m47s\u001b[0m 187ms/step - accuracy: 0.9963 - loss: 0.0109 - val_accuracy: 0.9943 - val_loss: 0.0169\n",
      "Epoch 5/5\n",
      "\u001b[1m250/250\u001b[0m \u001b[32m━━━━━━━━━━━━━━━━━━━━\u001b[0m\u001b[37m\u001b[0m \u001b[1m188s\u001b[0m 754ms/step - accuracy: 0.9965 - loss: 0.0102 - val_accuracy: 0.9944 - val_loss: 0.0169\n"
     ]
    },
    {
     "data": {
      "text/plain": [
       "<keras.src.callbacks.history.History at 0x1fe425ec7d0>"
      ]
     },
     "execution_count": 52,
     "metadata": {},
     "output_type": "execute_result"
    }
   ],
   "source": [
    "# Use a small subset of the data\n",
    "small_x = final_x_d[:10000]\n",
    "small_y = final_y[:10000]\n",
    "\n",
    "# Fit the model\n",
    "model.fit(small_x, small_y, batch_size=32, epochs=5, validation_split=0.2)\n",
    "\n"
   ]
  },
  {
   "cell_type": "code",
   "execution_count": 54,
   "id": "f713c0e9-45b1-4a20-a326-34d16f30382e",
   "metadata": {},
   "outputs": [],
   "source": [
    "import pickle"
   ]
  },
  {
   "cell_type": "code",
   "execution_count": 74,
   "id": "663301fb-6da4-4f54-a4ce-0b3612fb6d44",
   "metadata": {},
   "outputs": [],
   "source": [
    "Mdl1 = pickle.dump(model,open('pos4.pkl','wb'))\n",
    "Mdl1 =pickle.load(open('pos4.pkl','rb'))"
   ]
  },
  {
   "cell_type": "code",
   "execution_count": 70,
   "id": "8da4266d-65db-439a-bb78-40be9211293a",
   "metadata": {},
   "outputs": [],
   "source": [
    "Md3 = pickle.dump(tk_x,open('tk_x4.pkl','wb'))\n",
    "Md3 =pickle.load(open('tk_x4.pkl','rb'))"
   ]
  },
  {
   "cell_type": "code",
   "execution_count": 58,
   "id": "c1739183-e90d-4ef6-a40c-8e3e78e0aa4d",
   "metadata": {},
   "outputs": [],
   "source": [
    "Md2 = pickle.dump(tk_y,open('tk_y4.pkl','wb'))\n",
    "Md2 =pickle.load(open('tk_y4.pkl','rb'))"
   ]
  },
  {
   "cell_type": "code",
   "execution_count": 94,
   "id": "ba60f8f8-33b2-4cc9-8a4a-f2e58a3fc6a5",
   "metadata": {},
   "outputs": [],
   "source": [
    "te = ['India, a country located in South Asia, is the second-most populous country in the world. It is a federal republic with a parliamentary']\n"
   ]
  },
  {
   "cell_type": "code",
   "execution_count": 95,
   "id": "df533d10-9004-455b-a5cc-022309aee222",
   "metadata": {},
   "outputs": [
    {
     "data": {
      "text/plain": [
       "[[2086,\n",
       "  8,\n",
       "  292,\n",
       "  1784,\n",
       "  9,\n",
       "  386,\n",
       "  2081,\n",
       "  11,\n",
       "  2,\n",
       "  272,\n",
       "  94,\n",
       "  13149,\n",
       "  292,\n",
       "  9,\n",
       "  2,\n",
       "  134,\n",
       "  17,\n",
       "  11,\n",
       "  8,\n",
       "  330,\n",
       "  2794,\n",
       "  18,\n",
       "  8,\n",
       "  10538]]"
      ]
     },
     "execution_count": 95,
     "metadata": {},
     "output_type": "execute_result"
    }
   ],
   "source": [
    "Md3.texts_to_sequences(te)"
   ]
  },
  {
   "cell_type": "code",
   "execution_count": 96,
   "id": "5c5dd80f-82c5-4bab-86ff-1246baab45db",
   "metadata": {},
   "outputs": [],
   "source": [
    "test = pad_sequences(Md3.texts_to_sequences(te),maxlen=271,padding=\"post\")"
   ]
  },
  {
   "cell_type": "code",
   "execution_count": 97,
   "id": "25353634-98cc-4b8f-bd1e-c10a44a57215",
   "metadata": {},
   "outputs": [
    {
     "name": "stdout",
     "output_type": "stream",
     "text": [
      "\u001b[1m1/1\u001b[0m \u001b[32m━━━━━━━━━━━━━━━━━━━━\u001b[0m\u001b[37m\u001b[0m \u001b[1m0s\u001b[0m 119ms/step\n"
     ]
    },
    {
     "data": {
      "text/plain": [
       "(1, 271, 13)"
      ]
     },
     "execution_count": 97,
     "metadata": {},
     "output_type": "execute_result"
    }
   ],
   "source": [
    "model.predict(test).shape"
   ]
  },
  {
   "cell_type": "code",
   "execution_count": 67,
   "id": "cd392156-8e39-4d00-8056-5a097bdddf6f",
   "metadata": {},
   "outputs": [],
   "source": [
    "import numpy as np"
   ]
  },
  {
   "cell_type": "code",
   "execution_count": 90,
   "id": "b69a8507-e753-4521-87a5-33a7c09ef283",
   "metadata": {},
   "outputs": [
    {
     "name": "stdout",
     "output_type": "stream",
     "text": [
      "\u001b[1m1/1\u001b[0m \u001b[32m━━━━━━━━━━━━━━━━━━━━\u001b[0m\u001b[37m\u001b[0m \u001b[1m0s\u001b[0m 69ms/step\n",
      "\u001b[1m1/1\u001b[0m \u001b[32m━━━━━━━━━━━━━━━━━━━━\u001b[0m\u001b[37m\u001b[0m \u001b[1m0s\u001b[0m 48ms/step\n"
     ]
    },
    {
     "data": {
      "text/plain": [
       "array([1, 2, 4, 6, 1, 1, 5, 6, 6, 6, 1, 1], dtype=int64)"
      ]
     },
     "execution_count": 90,
     "metadata": {},
     "output_type": "execute_result"
    }
   ],
   "source": [
    "np.argmax(Mdl1.predict(test)[0],axis=1)[np.argmax(Mdl1.predict(test)[0],axis=1)!=0]"
   ]
  },
  {
   "cell_type": "code",
   "execution_count": null,
   "id": "b9d3e147-874d-4ae7-ad4f-df5a30c81e14",
   "metadata": {},
   "outputs": [],
   "source": []
  },
  {
   "cell_type": "code",
   "execution_count": 98,
   "id": "2c729184-5e00-4344-9c95-6cb7032ad2c2",
   "metadata": {},
   "outputs": [
    {
     "name": "stdout",
     "output_type": "stream",
     "text": [
      "\u001b[1m1/1\u001b[0m \u001b[32m━━━━━━━━━━━━━━━━━━━━\u001b[0m\u001b[37m\u001b[0m \u001b[1m0s\u001b[0m 65ms/step\n",
      "\u001b[1m1/1\u001b[0m \u001b[32m━━━━━━━━━━━━━━━━━━━━\u001b[0m\u001b[37m\u001b[0m \u001b[1m0s\u001b[0m 65ms/step\n"
     ]
    }
   ],
   "source": [
    "pred = Md2.sequences_to_texts([list(np.argmax(Mdl1.predict(test)[0],axis=1)[np.argmax(Mdl1.predict(test)[0],axis=1)!=0])])\n"
   ]
  },
  {
   "cell_type": "code",
   "execution_count": 99,
   "id": "244fb219-d05d-4f35-a26e-f2f4e3d5cc68",
   "metadata": {},
   "outputs": [
    {
     "data": {
      "text/plain": [
       "['noun det noun verb adp adj noun verb det adj adv adj noun adp det noun pron verb det adj noun adp det adj']"
      ]
     },
     "execution_count": 99,
     "metadata": {},
     "output_type": "execute_result"
    }
   ],
   "source": [
    "pred"
   ]
  },
  {
   "cell_type": "code",
   "execution_count": null,
   "id": "61c329ae-b02a-4b4c-8ecd-988683c00876",
   "metadata": {},
   "outputs": [],
   "source": [
    "import streamlit as st\n",
    "import numpy as np\n",
    "import pickle\n",
    "from tensorflow.keras.preprocessing.text import Tokenizer\n",
    "from tensorflow.keras.preprocessing.sequence import pad_sequences\n",
    "st.image(r\"C:\\Users\\ravin\\Downloads\\speech.webp\")\n",
    "Md2 = pickle.load(open('tk_y4.pkl', 'rb'))\n",
    "Md3 = pickle.load(open('tk_x4.pkl', 'rb'))\n",
    "Mdl1 = pickle.load(open('pos4.pkl', 'rb'))\n",
    "test = st.text_input(\"Enter your input sequence\")\n",
    "if st.button(\"Predict\"):\n",
    "    test_tokens = test.split() \n",
    "    sequences = Md3.texts_to_sequences([test])  \n",
    "    te = pad_sequences(sequences, maxlen=271, padding=\"post\")\n",
    "    pred = Mdl1.predict(te)\n",
    "    pred_sequence = np.argmax(pred[0], axis=1)\n",
    "    pred_sequence = pred_sequence[pred_sequence != 0]\n",
    "    prediction_labels = Md2.sequences_to_texts([pred_sequence])[0].split()\n",
    "    for token, label in zip(test_tokens, prediction_labels):\n",
    "        st.title(f\"{token} - {label}\")\n"
   ]
  },
  {
   "cell_type": "code",
   "execution_count": null,
   "id": "6d20528a-1c83-42c0-849b-f4dec209a235",
   "metadata": {},
   "outputs": [],
   "source": [
    "import streamlit as st\n",
    "import numpy as np\n",
    "import pickle\n",
    "from tensorflow.keras.preprocessing.text import Tokenizer\n",
    "from tensorflow.keras.preprocessing.sequence import pad_sequences\n",
    "\n",
    "# Load your models and tokenizer\n",
    "Md2 = pickle.load(open('tk_y4.pkl', 'rb'))\n",
    "Md3 = pickle.load(open('tk_x4.pkl', 'rb'))\n",
    "Mdl1 = pickle.load(open('pos4.pkl', 'rb'))\n",
    "\n",
    "st.image(r\"C:\\Users\\ravin\\Downloads\\speech.webp\")\n",
    "\n",
    "test = st.text_input(\"Enter your input sequence\")\n",
    "\n",
    "if st.button(\"Predict\"):\n",
    "    if test:\n",
    "        test_tokens = test.split()\n",
    "        sequences = Md3.texts_to_sequences([test])\n",
    "        te = pad_sequences(sequences, maxlen=271, padding=\"post\")\n",
    "        pred = Mdl1.predict(te)\n",
    "        if pred.shape[0] > 0:\n",
    "            pred_sequence = np.argmax(pred[0], axis=1)\n",
    "            pred_sequence = pred_sequence[pred_sequence != 0]\n",
    "            if len(pred_sequence) > 0:\n",
    "                prediction_labels = Md2.sequences_to_texts([pred_sequence])[0].split()\n",
    "                for token, label in zip(test_tokens, prediction_labels):\n",
    "                    st.title(f\"{token} - {label}\")\n",
    "            else:\n",
    "                st.write(\"No valid predictions found.\")\n",
    "        else:\n",
    "            st.write(\"Prediction array is empty.\")\n",
    "    else:\n",
    "        st.write(\"Please enter an input sequence.\")\n"
   ]
  }
 ],
 "metadata": {
  "kernelspec": {
   "display_name": "Python 3 (ipykernel)",
   "language": "python",
   "name": "python3"
  },
  "language_info": {
   "codemirror_mode": {
    "name": "ipython",
    "version": 3
   },
   "file_extension": ".py",
   "mimetype": "text/x-python",
   "name": "python",
   "nbconvert_exporter": "python",
   "pygments_lexer": "ipython3",
   "version": "3.11.3"
  }
 },
 "nbformat": 4,
 "nbformat_minor": 5
}
